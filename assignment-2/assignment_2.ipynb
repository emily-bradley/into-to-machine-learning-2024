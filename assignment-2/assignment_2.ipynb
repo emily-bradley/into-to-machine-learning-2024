{
  "cells": [
    {
      "cell_type": "markdown",
      "metadata": {
        "application/vnd.databricks.v1+cell": {
          "cellMetadata": {},
          "inputWidgets": {},
          "nuid": "2318e7db-91a5-4923-af2d-4876a8cc030e",
          "showTitle": false,
          "title": ""
        },
        "id": "3xk1kmH0PrLT"
      },
      "source": [
        "# Assignment 2 - Linear Regression\n",
        "\n",
        "Objective:\n",
        "\n",
        "In this assignment, you will explore the concept of linear regression, learn how to implement it using Python, and evaluate a model’s performance. By the end of this assignment, you should be able to:\n",
        "\n",
        "* Understand the theoretical foundations of linear regression.\n",
        "* Implement linear regression using Scikit-learn.\n",
        "* Evaluate the model's performance using metrics such as Mean Squared Error (MSE) and R-squared (R²).\n",
        "\n",
        "\n",
        "Instructions:\n",
        "\n",
        "Complete each of the tasks below. Download and upload your Jupyter notebook containing your code **and output** along with all answers to your github classroom repository. Add, commit, and push the notebook before the due date."
      ]
    },
    {
      "cell_type": "code",
      "execution_count": null,
      "metadata": {
        "application/vnd.databricks.v1+cell": {
          "cellMetadata": {
            "byteLimit": 2048000,
            "rowLimit": 10000
          },
          "inputWidgets": {},
          "nuid": "4f762c16-7315-44dc-86e9-fe490baed51b",
          "showTitle": false,
          "title": ""
        },
        "id": "plOWthUzPrLX"
      },
      "outputs": [],
      "source": [
        "import pandas as pd\n",
        "import numpy as np"
      ]
    },
    {
      "cell_type": "markdown",
      "source": [
        "## Part 1: Linear Regression Concepts (10 points)\n",
        "\n",
        "**Question: Explain what linear regression is and describe a real-world example where linear regression could be applied.**\n",
        "\n",
        "YOUR ANSWER:"
      ],
      "metadata": {
        "id": "UdMJ6SDxQYkd"
      }
    },
    {
      "cell_type": "code",
      "source": [],
      "metadata": {
        "id": "oItw40DoTfiK"
      },
      "execution_count": null,
      "outputs": []
    },
    {
      "cell_type": "markdown",
      "metadata": {
        "application/vnd.databricks.v1+cell": {
          "cellMetadata": {},
          "inputWidgets": {},
          "nuid": "b9cf54f3-0158-4765-b294-03fda74f32fc",
          "showTitle": false,
          "title": ""
        },
        "id": "Uepqe3EWPrLY"
      },
      "source": [
        "## Part 2: Linear Regression with Sklearn (85 points)\n",
        "\n",
        "For this assignment you'll be working with a Housing dataset. Your data for this assignment is in iris_data.csv. You may need to read more about the dataset in order to map the variables in the data."
      ]
    },
    {
      "cell_type": "markdown",
      "metadata": {
        "editable": true,
        "id": "f73bd8b3",
        "tags": []
      },
      "source": [
        "### A. Load the data (10 points)\n",
        "Load the [House Prices](https://www.kaggle.com/competitions/house-prices-advanced-regression-techniques/overview) dataset from Kaggle. You may need to download the dataset and move it to your working location in order to read it in.\n"
      ]
    },
    {
      "cell_type": "code",
      "execution_count": null,
      "metadata": {
        "editable": true,
        "tags": [],
        "id": "e05be201",
        "outputId": "82254e6f-5cfb-49b6-9f65-64fd907e04e2"
      },
      "outputs": [
        {
          "data": {
            "text/plain": [
              "<matplotlib.collections.PathCollection at 0x12cc64d40>"
            ]
          },
          "execution_count": 114,
          "metadata": {},
          "output_type": "execute_result"
        },
        {
          "data": {
            "image/png": "[encoded data removed]",
            "text/plain": [
              "<Figure size 640x480 with 1 Axes>"
            ]
          },
          "metadata": {},
          "output_type": "display_data"
        }
      ],
      "source": [
        "df = pd.read_csv('housing_train.csv', na_values=['NA'])\n",
        "label = 'SalePrice'\n",
        "Y = df[label]\n",
        "X = df.drop(label, axis=1)\n"
      ]
    },
    {
      "cell_type": "markdown",
      "metadata": {
        "application/vnd.databricks.v1+cell": {
          "cellMetadata": {},
          "inputWidgets": {},
          "nuid": "a04df9c9-127b-409e-943c-5a3e9a43701b",
          "showTitle": false,
          "title": ""
        },
        "id": "kwCOdW1nPrLZ"
      },
      "source": [
        "**Question: What is the House Prices dataset?**\n",
        "\n",
        "YOUR ANSWER:"
      ]
    },
    {
      "cell_type": "markdown",
      "metadata": {
        "id": "c8430c2e"
      },
      "source": [
        "### (optional) Train/Test Split the Data (5 bonus points)\n",
        "\n",
        "\n",
        "For extra points, split into training and testing. Use the training dataset to perform EDA (exploratory data analysis) and fit the model. Predict on the test dataset and evaluate model performance."
      ]
    },
    {
      "cell_type": "code",
      "execution_count": null,
      "metadata": {
        "id": "e26111fc"
      },
      "outputs": [],
      "source": []
    },
    {
      "cell_type": "markdown",
      "metadata": {
        "id": "c783c899"
      },
      "source": [
        "### B. Visualize Target Variable (5 points)\n",
        "Create a histogram of the target variable, `SalesPrice`"
      ]
    },
    {
      "cell_type": "code",
      "execution_count": 5,
      "metadata": {
        "id": "b85678ff"
      },
      "outputs": [],
      "source": [
        "# YOUR CODE HERE\n"
      ]
    },
    {
      "cell_type": "markdown",
      "metadata": {
        "editable": true,
        "tags": [],
        "id": "a2a177c1"
      },
      "source": [
        "### C. Visualize Feature (5 points)\n",
        "Create a visualization of one feature:\n",
        "* **GrLivArea:** Above grade (ground) living area square feet"
      ]
    },
    {
      "cell_type": "code",
      "execution_count": 4,
      "metadata": {
        "id": "4f968c22"
      },
      "outputs": [],
      "source": [
        "# YOUR CODE HERE\n",
        "\n"
      ]
    },
    {
      "cell_type": "markdown",
      "metadata": {
        "id": "156f34dd"
      },
      "source": [
        "### D. Fit a Simple Linear Regression Model (5 points)\n",
        "Create a linear model with just one X variable input: GrLivArea."
      ]
    },
    {
      "cell_type": "code",
      "execution_count": 6,
      "metadata": {
        "editable": true,
        "tags": [],
        "id": "87cc86f2"
      },
      "outputs": [],
      "source": [
        "from sklearn.linear_model import LinearRegression\n",
        "\n",
        "model = LinearRegression()\n",
        "\n",
        "# YOUR CODE HERE\n"
      ]
    },
    {
      "cell_type": "markdown",
      "metadata": {
        "id": "d184df21"
      },
      "source": [
        "### E. Score the Model (5 points)\n",
        "Run predict on the fitted model. Pass the predictions to the mean squared error scoring function: https://scikit-learn.org/stable/modules/generated/sklearn.metrics.mean_squared_error.html"
      ]
    },
    {
      "cell_type": "code",
      "execution_count": 7,
      "metadata": {
        "id": "d988ff08"
      },
      "outputs": [],
      "source": [
        "# YOUR CODE HERE\n"
      ]
    },
    {
      "cell_type": "markdown",
      "metadata": {
        "id": "75d88aab"
      },
      "source": [
        "### F. Plot the Fitted Line (10 points)\n",
        "Plot the X feature, GrLivArea, on the X axis and the Y label, SalesPrice, on the Y axis. Add the model line to the visualization."
      ]
    },
    {
      "cell_type": "code",
      "execution_count": 8,
      "metadata": {
        "editable": true,
        "tags": [],
        "id": "f59bba6d"
      },
      "outputs": [],
      "source": [
        "# YOUR CODE HERE"
      ]
    },
    {
      "cell_type": "markdown",
      "metadata": {
        "editable": true,
        "tags": [],
        "id": "d38d124f"
      },
      "source": [
        "**Question (5 points):** What is the weight and bias or your model? What is the formula?\n",
        "\n",
        "YOUR ANSWER:"
      ]
    },
    {
      "cell_type": "code",
      "source": [
        "print(\"Intercept:\", model.intercept_)\n",
        "print(\"Coefficients:\", model.coef_)"
      ],
      "metadata": {
        "id": "Z5Hwt5xnXH42"
      },
      "execution_count": null,
      "outputs": []
    },
    {
      "cell_type": "markdown",
      "metadata": {
        "id": "92a9a409"
      },
      "source": [
        "### G. Add More Features (20 points)\n",
        "\n",
        "The goal of this exercise is to compile a table of results -- MSE computed for 5 models:\n",
        "1. features = GrLivArea\n",
        "2. features = GrLivArea, Feature2\n",
        "3. features = GrLivArea, Feature2, Feature3\n",
        "4. features = GrLivArea, Feature2, Feature3, Feature4\n",
        "\n",
        "Select 4 additional features of your personal choice."
      ]
    },
    {
      "cell_type": "code",
      "execution_count": 8,
      "metadata": {
        "id": "06a5ab4a"
      },
      "outputs": [],
      "source": []
    },
    {
      "cell_type": "markdown",
      "metadata": {
        "id": "49418633"
      },
      "source": [
        "**Question:** Enter your model results in the grid below"
      ]
    },
    {
      "cell_type": "markdown",
      "metadata": {
        "id": "3ebd3152"
      },
      "source": [
        "*Written answer:*\n",
        "\n",
        "Model          | MSE\n",
        "---            | ---\n",
        "GrLivArea      | XXX\n",
        "+ XXX | XXX\n",
        "+ XXX  | XXX\n",
        "+ XXX   | XXX\n",
        "+ XXX | XXX"
      ]
    },
    {
      "cell_type": "code",
      "execution_count": null,
      "metadata": {
        "id": "5ee88926"
      },
      "outputs": [],
      "source": []
    }
  ],
  "metadata": {
    "application/vnd.databricks.v1+notebook": {
      "dashboards": [],
      "environmentMetadata": {
        "base_environment": "",
        "client": "1"
      },
      "language": "python",
      "notebookMetadata": {
        "pythonIndentUnit": 4
      },
      "notebookName": "Assignment 1 - Intro to Python & Pandas",
      "widgets": {}
    },
    "kernelspec": {
      "display_name": "Python 3",
      "language": "python",
      "name": "python3"
    },
    "language_info": {
      "codemirror_mode": {
        "name": "ipython",
        "version": 3
      },
      "file_extension": ".py",
      "mimetype": "text/x-python",
      "name": "python",
      "nbconvert_exporter": "python",
      "pygments_lexer": "ipython3",
      "version": "3.8.8"
    },
    "colab": {
      "provenance": []
    }
  },
  "nbformat": 4,
  "nbformat_minor": 0
}