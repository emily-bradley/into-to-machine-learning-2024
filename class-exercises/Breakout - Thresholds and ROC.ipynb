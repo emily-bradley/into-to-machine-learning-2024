{
 "cells": [
  {
   "cell_type": "markdown",
   "id": "1dbbd5dc",
   "metadata": {},
   "source": [
    "# Breakout - Thresholds and Receiver-Operator Curve"
   ]
  },
  {
   "cell_type": "markdown",
   "id": "fab9b3a0",
   "metadata": {},
   "source": [
    "### Part 1: Thresholds"
   ]
  },
  {
   "cell_type": "markdown",
   "id": "d165021a",
   "metadata": {},
   "source": [
    "Let's consider a hypothetical scenario with actual data to demonstrate how changing the threshold affects performance metrics.\n",
    "\n",
    "Suppose we have a dataset of email classifications, where the task is to classify emails as either spam (positive class) or not spam (negative class). We have a model that outputs probabilities for each email, and we want to adjust the threshold to see how it affects the model's precision and recall.\n",
    "\n",
    "Let's start by loading some sample data and calculating precision and recall at a default threshold of 0.5. Then, we'll adjust the threshold and observe the changes in precision and recall."
   ]
  },
  {
   "cell_type": "code",
   "execution_count": 1,
   "id": "094b3bcb",
   "metadata": {},
   "outputs": [],
   "source": [
    "import numpy as np\n",
    "from sklearn.metrics import precision_score, recall_score"
   ]
  },
  {
   "cell_type": "code",
   "execution_count": 2,
   "id": "88d05fd8",
   "metadata": {},
   "outputs": [],
   "source": [
    "# Sample data\n",
    "true_labels = np.array([0, 1, 0, 0, 1, 1, 0, 1, 1, 0])  # Actual labels\n",
    "predicted_probabilities = np.array([0.7, 0.3, 0.6, 0.4, 0.8, 0.2, 0.9, 0.1, 0.5, 0.4])  # Predicted probabilities"
   ]
  },
  {
   "cell_type": "code",
   "execution_count": 3,
   "id": "22b5a3ec",
   "metadata": {},
   "outputs": [
    {
     "name": "stdout",
     "output_type": "stream",
     "text": [
      "Precision at default threshold (0.5): 0.4\n",
      "Recall at default threshold (0.5): 0.4\n"
     ]
    }
   ],
   "source": [
    "# Default threshold = 0.5\n",
    "predicted_labels_default = (predicted_probabilities >= 0.5).astype(int)  # Convert probabilities to binary predictions\n",
    "\n",
    "# Calculate precision and recall at default threshold\n",
    "precision_default = precision_score(true_labels, predicted_labels_default)\n",
    "recall_default = recall_score(true_labels, predicted_labels_default)\n",
    "\n",
    "print(\"Precision at default threshold (0.5):\", precision_default)\n",
    "print(\"Recall at default threshold (0.5):\", recall_default)"
   ]
  },
  {
   "cell_type": "markdown",
   "id": "892e8e2d",
   "metadata": {},
   "source": [
    "Adjust the threshold to .3 and note the difference"
   ]
  },
  {
   "cell_type": "code",
   "execution_count": null,
   "id": "1784e9ea",
   "metadata": {},
   "outputs": [],
   "source": [
    "# YOUR CODE HERE"
   ]
  },
  {
   "cell_type": "markdown",
   "id": "6d725faa",
   "metadata": {},
   "source": [
    "In this example, we have a sample of 10 emails with their actual labels and predicted probabilities. We calculate precision and recall at the default threshold of 0.5 and then adjust the threshold to 0.3 to observe the changes in precision and recall.\n",
    "\n",
    "Adjusting the threshold allows us to trade off between precision and recall based on the specific requirements of the task. Lowering the threshold can increase recall but may decrease precision, and vice versa."
   ]
  },
  {
   "cell_type": "markdown",
   "id": "ad264bdf",
   "metadata": {},
   "source": [
    "### Part 2: Receiver-Operator Curve"
   ]
  },
  {
   "cell_type": "markdown",
   "id": "3369dc53",
   "metadata": {},
   "source": [
    "In this example:\n",
    "\n",
    "* We generate synthetic data using make_classification from scikit-learn.\n",
    "* We split the data into training and testing sets.\n",
    "* We train a logistic regression model on the training data.\n",
    "* We predict probabilities of the positive class on the test set using the trained model.\n",
    "* We compute the ROC curve and AUC (Area Under the Curve) using the roc_curve and auc functions from scikit-learn.\n",
    "* Finally, we plot the ROC curve using Matplotlib.\n",
    "\n",
    "This code generates a plot showing the ROC curve of the logistic regression model along with a dashed diagonal line representing random guessing. The AUC value is also displayed in the legend of the plot."
   ]
  },
  {
   "cell_type": "code",
   "execution_count": 4,
   "id": "ad236594",
   "metadata": {},
   "outputs": [],
   "source": [
    "import numpy as np\n",
    "import matplotlib.pyplot as plt\n",
    "from sklearn.datasets import make_classification\n",
    "from sklearn.model_selection import train_test_split\n",
    "from sklearn.linear_model import LogisticRegression\n",
    "from sklearn.metrics import roc_curve, auc"
   ]
  },
  {
   "cell_type": "code",
   "execution_count": 5,
   "id": "e0e44fc0",
   "metadata": {},
   "outputs": [],
   "source": [
    "# Generate synthetic data for binary classification\n",
    "X, y = make_classification(n_samples=1000, n_features=20, n_classes=2, random_state=42)"
   ]
  },
  {
   "cell_type": "code",
   "execution_count": 6,
   "id": "07c39cc4",
   "metadata": {},
   "outputs": [],
   "source": [
    "# Split the data into training and testing sets\n",
    "X_train, X_test, y_train, y_test = train_test_split(X, y, test_size=0.2, random_state=42)"
   ]
  },
  {
   "cell_type": "code",
   "execution_count": 7,
   "id": "b08b279c",
   "metadata": {},
   "outputs": [
    {
     "data": {
      "text/html": [
       "<style>#sk-container-id-1 {color: black;}#sk-container-id-1 pre{padding: 0;}#sk-container-id-1 div.sk-toggleable {background-color: white;}#sk-container-id-1 label.sk-toggleable__label {cursor: pointer;display: block;width: 100%;margin-bottom: 0;padding: 0.3em;box-sizing: border-box;text-align: center;}#sk-container-id-1 label.sk-toggleable__label-arrow:before {content: \"▸\";float: left;margin-right: 0.25em;color: #696969;}#sk-container-id-1 label.sk-toggleable__label-arrow:hover:before {color: black;}#sk-container-id-1 div.sk-estimator:hover label.sk-toggleable__label-arrow:before {color: black;}#sk-container-id-1 div.sk-toggleable__content {max-height: 0;max-width: 0;overflow: hidden;text-align: left;background-color: #f0f8ff;}#sk-container-id-1 div.sk-toggleable__content pre {margin: 0.2em;color: black;border-radius: 0.25em;background-color: #f0f8ff;}#sk-container-id-1 input.sk-toggleable__control:checked~div.sk-toggleable__content {max-height: 200px;max-width: 100%;overflow: auto;}#sk-container-id-1 input.sk-toggleable__control:checked~label.sk-toggleable__label-arrow:before {content: \"▾\";}#sk-container-id-1 div.sk-estimator input.sk-toggleable__control:checked~label.sk-toggleable__label {background-color: #d4ebff;}#sk-container-id-1 div.sk-label input.sk-toggleable__control:checked~label.sk-toggleable__label {background-color: #d4ebff;}#sk-container-id-1 input.sk-hidden--visually {border: 0;clip: rect(1px 1px 1px 1px);clip: rect(1px, 1px, 1px, 1px);height: 1px;margin: -1px;overflow: hidden;padding: 0;position: absolute;width: 1px;}#sk-container-id-1 div.sk-estimator {font-family: monospace;background-color: #f0f8ff;border: 1px dotted black;border-radius: 0.25em;box-sizing: border-box;margin-bottom: 0.5em;}#sk-container-id-1 div.sk-estimator:hover {background-color: #d4ebff;}#sk-container-id-1 div.sk-parallel-item::after {content: \"\";width: 100%;border-bottom: 1px solid gray;flex-grow: 1;}#sk-container-id-1 div.sk-label:hover label.sk-toggleable__label {background-color: #d4ebff;}#sk-container-id-1 div.sk-serial::before {content: \"\";position: absolute;border-left: 1px solid gray;box-sizing: border-box;top: 0;bottom: 0;left: 50%;z-index: 0;}#sk-container-id-1 div.sk-serial {display: flex;flex-direction: column;align-items: center;background-color: white;padding-right: 0.2em;padding-left: 0.2em;position: relative;}#sk-container-id-1 div.sk-item {position: relative;z-index: 1;}#sk-container-id-1 div.sk-parallel {display: flex;align-items: stretch;justify-content: center;background-color: white;position: relative;}#sk-container-id-1 div.sk-item::before, #sk-container-id-1 div.sk-parallel-item::before {content: \"\";position: absolute;border-left: 1px solid gray;box-sizing: border-box;top: 0;bottom: 0;left: 50%;z-index: -1;}#sk-container-id-1 div.sk-parallel-item {display: flex;flex-direction: column;z-index: 1;position: relative;background-color: white;}#sk-container-id-1 div.sk-parallel-item:first-child::after {align-self: flex-end;width: 50%;}#sk-container-id-1 div.sk-parallel-item:last-child::after {align-self: flex-start;width: 50%;}#sk-container-id-1 div.sk-parallel-item:only-child::after {width: 0;}#sk-container-id-1 div.sk-dashed-wrapped {border: 1px dashed gray;margin: 0 0.4em 0.5em 0.4em;box-sizing: border-box;padding-bottom: 0.4em;background-color: white;}#sk-container-id-1 div.sk-label label {font-family: monospace;font-weight: bold;display: inline-block;line-height: 1.2em;}#sk-container-id-1 div.sk-label-container {text-align: center;}#sk-container-id-1 div.sk-container {/* jupyter's `normalize.less` sets `[hidden] { display: none; }` but bootstrap.min.css set `[hidden] { display: none !important; }` so we also need the `!important` here to be able to override the default hidden behavior on the sphinx rendered scikit-learn.org. See: https://github.com/scikit-learn/scikit-learn/issues/21755 */display: inline-block !important;position: relative;}#sk-container-id-1 div.sk-text-repr-fallback {display: none;}</style><div id=\"sk-container-id-1\" class=\"sk-top-container\"><div class=\"sk-text-repr-fallback\"><pre>LogisticRegression()</pre><b>In a Jupyter environment, please rerun this cell to show the HTML representation or trust the notebook. <br />On GitHub, the HTML representation is unable to render, please try loading this page with nbviewer.org.</b></div><div class=\"sk-container\" hidden><div class=\"sk-item\"><div class=\"sk-estimator sk-toggleable\"><input class=\"sk-toggleable__control sk-hidden--visually\" id=\"sk-estimator-id-1\" type=\"checkbox\" checked><label for=\"sk-estimator-id-1\" class=\"sk-toggleable__label sk-toggleable__label-arrow\">LogisticRegression</label><div class=\"sk-toggleable__content\"><pre>LogisticRegression()</pre></div></div></div></div></div>"
      ],
      "text/plain": [
       "LogisticRegression()"
      ]
     },
     "execution_count": 7,
     "metadata": {},
     "output_type": "execute_result"
    }
   ],
   "source": [
    "# Train a logistic regression model\n",
    "model = LogisticRegression()\n",
    "model.fit(X_train, y_train)"
   ]
  },
  {
   "cell_type": "code",
   "execution_count": 8,
   "id": "f1e9388c",
   "metadata": {},
   "outputs": [],
   "source": [
    "# Predict probabilities on the test set\n",
    "probs = model.predict_proba(X_test)[:, 1]  # Probability of the positive class"
   ]
  },
  {
   "cell_type": "code",
   "execution_count": 9,
   "id": "5a98ab30",
   "metadata": {},
   "outputs": [],
   "source": [
    "# Compute ROC curve and ROC area for the positive class\n",
    "fpr, tpr, thresholds = roc_curve(y_test, probs)\n",
    "roc_auc = auc(fpr, tpr)"
   ]
  },
  {
   "cell_type": "code",
   "execution_count": 10,
   "id": "96c8b04c",
   "metadata": {},
   "outputs": [
    {
     "data": {
      "image/png": "[encoded data removed]",
      "text/plain": [
       "<Figure size 576x432 with 1 Axes>"
      ]
     },
     "metadata": {
      "needs_background": "light"
     },
     "output_type": "display_data"
    }
   ],
   "source": [
    "# Plot ROC curve\n",
    "plt.figure(figsize=(8, 6))\n",
    "plt.plot(fpr, tpr, color='blue', lw=2, label='ROC curve (AUC = %0.2f)' % roc_auc)\n",
    "plt.plot([0, 1], [0, 1], color='red', lw=2, linestyle='--', label='Random Guessing')\n",
    "plt.xlim([0.0, 1.0])\n",
    "plt.ylim([0.0, 1.05])\n",
    "plt.xlabel('False Positive Rate (FPR)')\n",
    "plt.ylabel('True Positive Rate (TPR)')\n",
    "plt.title('Receiver Operating Characteristic (ROC) Curve')\n",
    "plt.legend(loc='lower right')\n",
    "plt.grid(True)\n",
    "plt.show()"
   ]
  },
  {
   "cell_type": "markdown",
   "id": "e1be6679",
   "metadata": {},
   "source": [
    "In this example:\n",
    "\n",
    "* We generate random probabilities for the positive class using np.random.rand.\n",
    "* We also generate random true labels (0 or 1) using np.random.randint.\n",
    "\n",
    "Your task: \n",
    "* Compute the ROC curve and AUC (Area Under the Curve) using the roc_curve and auc functions from scikit-learn.\n",
    "* Plot the ROC curve using Matplotlib\n",
    "* Compare an contrast the two model ROC curves"
   ]
  },
  {
   "cell_type": "code",
   "execution_count": 12,
   "id": "23634af5",
   "metadata": {},
   "outputs": [],
   "source": [
    "import numpy as np\n",
    "import matplotlib.pyplot as plt\n",
    "from sklearn.metrics import roc_curve, auc\n",
    "\n",
    "# Generate random probabilities for the positive class\n",
    "np.random.seed(42)\n",
    "probs = np.random.rand(100)  # Random probabilities between 0 and 1\n",
    "true_labels = np.random.randint(2, size=100)  # Random true labels (0 or 1)\n",
    "\n",
    "# YOUR CODE HERE\n",
    "\n",
    "# Compute ROC curve and ROC area for the positive class\n",
    "\n",
    "\n",
    "\n",
    "# Plot ROC curve\n"
   ]
  },
  {
   "cell_type": "markdown",
   "id": "611d3d9f",
   "metadata": {},
   "source": [
    "This code generates a plot showing the ROC curve of random predictions along with a dashed diagonal line representing random guessing. The AUC value is also displayed in the legend of the plot. Since the predictions are random, the ROC curve will generally be close to the diagonal line, indicating that the model's performance is no better than random guessing.\n",
    "\n",
    "Compare and contrast this ROC curve the the one produced earlier."
   ]
  },
  {
   "cell_type": "code",
   "execution_count": null,
   "id": "055d5d84",
   "metadata": {},
   "outputs": [],
   "source": []
  }
 ],
 "metadata": {
  "kernelspec": {
   "display_name": "Python 3",
   "language": "python",
   "name": "python3"
  },
  "language_info": {
   "codemirror_mode": {
    "name": "ipython",
    "version": 3
   },
   "file_extension": ".py",
   "mimetype": "text/x-python",
   "name": "python",
   "nbconvert_exporter": "python",
   "pygments_lexer": "ipython3",
   "version": "3.8.8"
  }
 },
 "nbformat": 4,
 "nbformat_minor": 5
}
