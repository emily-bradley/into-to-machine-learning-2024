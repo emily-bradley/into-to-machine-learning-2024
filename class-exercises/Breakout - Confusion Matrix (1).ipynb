{
 "cells": [
  {
   "cell_type": "markdown",
   "id": "d949dba8",
   "metadata": {},
   "source": [
    "# Breakout - Confusion Matrix"
   ]
  },
  {
   "cell_type": "markdown",
   "id": "85fa5d88",
   "metadata": {},
   "source": [
    "In this exercise:\n",
    "\n",
    "* The calculate_metrics function takes a confusion matrix as input and calculates accuracy, precision, recall, and specificity.\n",
    "* We provide an example confusion matrix.\n",
    "* We call the calculate_metrics function with the example confusion matrix and print the results.\n",
    "\n",
    "Implement the accuracy, precision, recall, and specificity calculations using the confusion matrix"
   ]
  },
  {
   "cell_type": "code",
   "execution_count": null,
   "id": "dae02002",
   "metadata": {},
   "outputs": [],
   "source": [
    "def calculate_metrics(confusion_matrix):\n",
    "    # Extract values from confusion matrix\n",
    "    TN = confusion_matrix[0][0]\n",
    "    FP = confusion_matrix[0][1]\n",
    "    FN = confusion_matrix[1][0]\n",
    "    TP = confusion_matrix[1][1]\n",
    "    \n",
    "    # YOUR CODE BELOW\n",
    "    \n",
    "    # Calculate accuracy\n",
    "    accuracy =\n",
    "    \n",
    "    # Calculate precision\n",
    "    precision =\n",
    "    \n",
    "    # Calculate recall (sensitivity)\n",
    "    recall =\n",
    "    \n",
    "    # Calculate specificity\n",
    "    specificity =\n",
    "    \n",
    "    return accuracy, precision, recall, specificity"
   ]
  },
  {
   "cell_type": "code",
   "execution_count": 4,
   "id": "79010b46",
   "metadata": {},
   "outputs": [],
   "source": [
    "def print_confusion_matrix(confusion_matrix):\n",
    "    print(\"Confusion Matrix:\")\n",
    "    print(\"\\t\\tPredicted Negative\\tPredicted Positive\")\n",
    "    print(f\"Actual Negative\\t{confusion_matrix[0][0]}\\t\\t\\t{confusion_matrix[0][1]}\")\n",
    "    print(f\"Actual Positive\\t{confusion_matrix[1][0]}\\t\\t\\t{confusion_matrix[1][1]}\")"
   ]
  },
  {
   "cell_type": "code",
   "execution_count": 5,
   "id": "c9e8e592",
   "metadata": {},
   "outputs": [
    {
     "name": "stdout",
     "output_type": "stream",
     "text": [
      "Confusion Matrix:\n",
      "\t\tPredicted Negative\tPredicted Positive\n",
      "Actual Negative\t9000\t\t\t100\n",
      "Actual Positive\t50\t\t\t950\n"
     ]
    }
   ],
   "source": [
    "# Example confusion matrix\n",
    "confusion_matrix = [[9000, 100], [50, 950]]\n",
    "\n",
    "# Print confusion matrix\n",
    "print_confusion_matrix(confusion_matrix)"
   ]
  },
  {
   "cell_type": "code",
   "execution_count": null,
   "id": "744c666e",
   "metadata": {},
   "outputs": [],
   "source": [
    "# Calculate metrics\n",
    "accuracy, precision, recall, specificity = calculate_metrics(confusion_matrix)\n",
    "\n",
    "# Print results\n",
    "print(\"Accuracy:\", accuracy)\n",
    "print(\"Precision:\", precision)\n",
    "print(\"Recall:\", recall)\n",
    "print(\"Specificity:\", specificity)"
   ]
  }
 ],
 "metadata": {
  "kernelspec": {
   "display_name": "Python 3",
   "language": "python",
   "name": "python3"
  },
  "language_info": {
   "codemirror_mode": {
    "name": "ipython",
    "version": 3
   },
   "file_extension": ".py",
   "mimetype": "text/x-python",
   "name": "python",
   "nbconvert_exporter": "python",
   "pygments_lexer": "ipython3",
   "version": "3.8.8"
  }
 },
 "nbformat": 4,
 "nbformat_minor": 5
}
