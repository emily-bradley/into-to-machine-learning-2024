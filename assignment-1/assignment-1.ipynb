{
  "cells": [
    {
      "cell_type": "markdown",
      "metadata": {
        "application/vnd.databricks.v1+cell": {
          "cellMetadata": {},
          "inputWidgets": {},
          "nuid": "2318e7db-91a5-4923-af2d-4876a8cc030e",
          "showTitle": false,
          "title": ""
        },
        "id": "3xk1kmH0PrLT"
      },
      "source": [
        "# Assignment 1 - Python for Data Science\n",
        "\n",
        "Objective:\n",
        "\n",
        "The purpose of this assignment is to ensure that you are comfortable with Python programming and basic data manipulation using the Pandas library. By the end of this assignment, you should be able to:\n",
        "\n",
        "* Understand Python basics: variables, data types, control structures, functions, and data structures.\n",
        "* Perform basic data manipulation and exploration using Pandas.\n",
        "* Read, filter, sort, and analyze data in a DataFrame.\n",
        "\n",
        "\n",
        "Instructions:\n",
        "\n",
        "Complete each of the tasks below. Download and upload your Jupyter notebook containing your code **and output** along with all answers to your github classroom repository. Add, commit, and push the notebook before the due date."
      ]
    },
    {
      "cell_type": "code",
      "execution_count": null,
      "metadata": {
        "application/vnd.databricks.v1+cell": {
          "cellMetadata": {
            "byteLimit": 2048000,
            "rowLimit": 10000
          },
          "inputWidgets": {},
          "nuid": "4f762c16-7315-44dc-86e9-fe490baed51b",
          "showTitle": false,
          "title": ""
        },
        "id": "plOWthUzPrLX"
      },
      "outputs": [],
      "source": [
        "import pandas as pd\n",
        "import numpy as np"
      ]
    },
    {
      "cell_type": "markdown",
      "source": [
        "## Part 1: Python Basics (10 points)\n",
        "\n",
        "Variables and Data Types:\n",
        "\n",
        "Define a variable x as the sum of 5 and 10.\n",
        "\n",
        "Print the data type of x."
      ],
      "metadata": {
        "id": "UdMJ6SDxQYkd"
      }
    },
    {
      "cell_type": "code",
      "source": [
        "# YOUR CODE HERE\n"
      ],
      "metadata": {
        "id": "-by4qOz4QjY3"
      },
      "execution_count": null,
      "outputs": []
    },
    {
      "cell_type": "markdown",
      "source": [
        "Control Structures:\n",
        "\n",
        "Write a Python function that takes a list of numbers and returns a list of only the even numbers."
      ],
      "metadata": {
        "id": "jjp4xNMEQmOg"
      }
    },
    {
      "cell_type": "code",
      "source": [
        "# YOUR CODE HERE\n"
      ],
      "metadata": {
        "id": "5BaO-d9oQk6S"
      },
      "execution_count": null,
      "outputs": []
    },
    {
      "cell_type": "markdown",
      "source": [
        "Functions:\n",
        "\n",
        "Create a function that takes two arguments (length and width) and returns the area of a rectangle.\n",
        "python"
      ],
      "metadata": {
        "id": "a-jyh-s6QszZ"
      }
    },
    {
      "cell_type": "code",
      "source": [
        "# YOUR CODE HERE\n"
      ],
      "metadata": {
        "id": "ph7yawDZQSDL"
      },
      "execution_count": null,
      "outputs": []
    },
    {
      "cell_type": "markdown",
      "metadata": {
        "application/vnd.databricks.v1+cell": {
          "cellMetadata": {},
          "inputWidgets": {},
          "nuid": "b9cf54f3-0158-4765-b294-03fda74f32fc",
          "showTitle": false,
          "title": ""
        },
        "id": "Uepqe3EWPrLY"
      },
      "source": [
        "## Part 2: Introduction to Pandas (55 points)\n",
        "\n",
        "For this assignment you'll be working with the Iris dataset. Read more about the Iris dataset [here](https://www.kaggle.com/datasets/vikrishnan/iris-dataset?resource=download). Your data for this assignment is in iris_data.csv. You may need to read more about the dataset in order to map the variables in the data."
      ]
    },
    {
      "cell_type": "markdown",
      "metadata": {
        "application/vnd.databricks.v1+cell": {
          "cellMetadata": {},
          "inputWidgets": {},
          "nuid": "a04df9c9-127b-409e-943c-5a3e9a43701b",
          "showTitle": false,
          "title": ""
        },
        "id": "kwCOdW1nPrLZ"
      },
      "source": [
        "**Question: What is the Iris dataset?**\n",
        "\n",
        "YOUR ANSWER:"
      ]
    },
    {
      "cell_type": "markdown",
      "metadata": {
        "application/vnd.databricks.v1+cell": {
          "cellMetadata": {},
          "inputWidgets": {},
          "nuid": "3523f56c-5c09-418a-9e0a-8f1d01568667",
          "showTitle": false,
          "title": ""
        },
        "id": "x_4MaOkBPrLZ"
      },
      "source": [
        "Read in the csv file using [DataFrame.read_csv()](https://pandas.pydata.org/docs/reference/api/pandas.read_csv.html)"
      ]
    },
    {
      "cell_type": "code",
      "execution_count": null,
      "metadata": {
        "application/vnd.databricks.v1+cell": {
          "cellMetadata": {},
          "inputWidgets": {},
          "nuid": "28a8f7e2-1926-4760-aeb7-c425d8098a64",
          "showTitle": false,
          "title": ""
        },
        "id": "RowbVyHjPrLZ"
      },
      "outputs": [],
      "source": [
        "# YOUR CODE HERE\n",
        "df = pd.read_csv()"
      ]
    },
    {
      "cell_type": "markdown",
      "metadata": {
        "application/vnd.databricks.v1+cell": {
          "cellMetadata": {},
          "inputWidgets": {},
          "nuid": "171cb810-b167-4e8f-8248-78152b4c8e26",
          "showTitle": false,
          "title": ""
        },
        "id": "nd-cLewvPrLa"
      },
      "source": [
        "Look at the first 5 records in the dataset us [DataFrame.head](https://pandas.pydata.org/docs/reference/api/pandas.DataFrame.head.html) and and validate that the proper headers were applied with the read_csv function"
      ]
    },
    {
      "cell_type": "code",
      "execution_count": null,
      "metadata": {
        "application/vnd.databricks.v1+cell": {
          "cellMetadata": {},
          "inputWidgets": {},
          "nuid": "81a874c5-54a3-464b-83bb-c327f34ab73c",
          "showTitle": false,
          "title": ""
        },
        "id": "xtYcm7i0PrLa"
      },
      "outputs": [],
      "source": [
        "# YOUR CODE HERE\n"
      ]
    },
    {
      "cell_type": "markdown",
      "metadata": {
        "application/vnd.databricks.v1+cell": {
          "cellMetadata": {},
          "inputWidgets": {},
          "nuid": "980769c9-0215-4bbb-b853-bb7aa844c848",
          "showTitle": false,
          "title": ""
        },
        "id": "FAVBI-opPrLb"
      },
      "source": [
        "**Question: How many records are in the dataset?**\n",
        "\n",
        "YOUR ANSWER:"
      ]
    },
    {
      "cell_type": "code",
      "execution_count": null,
      "metadata": {
        "application/vnd.databricks.v1+cell": {
          "cellMetadata": {},
          "inputWidgets": {},
          "nuid": "b0e0fbf5-fca7-4d2c-97fa-f73c52bf502c",
          "showTitle": false,
          "title": ""
        },
        "id": "eHM-sITFPrLb"
      },
      "outputs": [],
      "source": [
        "# YOUR CODE HERE\n"
      ]
    },
    {
      "cell_type": "markdown",
      "metadata": {
        "application/vnd.databricks.v1+cell": {
          "cellMetadata": {},
          "inputWidgets": {},
          "nuid": "d2fb01c0-009d-43ce-a038-fc8ca6b91897",
          "showTitle": false,
          "title": ""
        },
        "id": "RgzUos9HPrLb"
      },
      "source": [
        "**Question: How many features are there?**\n",
        "\n",
        "YOUR ANSWER:"
      ]
    },
    {
      "cell_type": "code",
      "execution_count": null,
      "metadata": {
        "application/vnd.databricks.v1+cell": {
          "cellMetadata": {},
          "inputWidgets": {},
          "nuid": "bd16ecd9-05bc-471e-981b-8c71d47994d5",
          "showTitle": false,
          "title": ""
        },
        "id": "mf7dc1ZIPrLb"
      },
      "outputs": [],
      "source": [
        "# YOUR CODE HERE\n"
      ]
    },
    {
      "cell_type": "markdown",
      "metadata": {
        "application/vnd.databricks.v1+cell": {
          "cellMetadata": {},
          "inputWidgets": {},
          "nuid": "f3d5dc98-701b-4349-a5fe-a37175f48d78",
          "showTitle": false,
          "title": ""
        },
        "id": "QPtQRV2VPrLc"
      },
      "source": [
        "**Question: What is the unit of measurement?**\n",
        "\n",
        "YOUR ANSWER:"
      ]
    },
    {
      "cell_type": "markdown",
      "metadata": {
        "application/vnd.databricks.v1+cell": {
          "cellMetadata": {},
          "inputWidgets": {},
          "nuid": "5104ec0e-feca-4999-a0c2-0329e5598d48",
          "showTitle": false,
          "title": ""
        },
        "id": "F9q-36gTPrLc"
      },
      "source": [
        "**Question: What is the target variable?**\n",
        "\n",
        "YOUR ANSWER:"
      ]
    },
    {
      "cell_type": "code",
      "execution_count": null,
      "metadata": {
        "application/vnd.databricks.v1+cell": {
          "cellMetadata": {},
          "inputWidgets": {},
          "nuid": "76d381cd-7a3c-4653-ab82-51bf6ec50be1",
          "showTitle": false,
          "title": ""
        },
        "id": "RMby1q18PrLc"
      },
      "outputs": [],
      "source": [
        "# YOUR CODE HERE\n"
      ]
    },
    {
      "cell_type": "markdown",
      "metadata": {
        "application/vnd.databricks.v1+cell": {
          "cellMetadata": {},
          "inputWidgets": {},
          "nuid": "a5cd8cac-6b64-498e-82c0-036a63ebf856",
          "showTitle": false,
          "title": ""
        },
        "id": "YKOVBAfdPrLc"
      },
      "source": [
        "**Question: What type of machine learning problem is this?**\n",
        "\n",
        "YOUR ANSWER:"
      ]
    },
    {
      "cell_type": "markdown",
      "metadata": {
        "application/vnd.databricks.v1+cell": {
          "cellMetadata": {},
          "inputWidgets": {},
          "nuid": "93108f21-8c7b-4bc6-9ab3-a47895d6f289",
          "showTitle": false,
          "title": ""
        },
        "id": "T62mGqC8PrLc"
      },
      "source": [
        "**Question: How many species are in each class? Is this a well separated dataset?**\n",
        "\n",
        "YOUR ANSWER:"
      ]
    },
    {
      "cell_type": "markdown",
      "metadata": {
        "application/vnd.databricks.v1+cell": {
          "cellMetadata": {},
          "inputWidgets": {},
          "nuid": "c0d74a36-580c-4895-904c-bf7cb10bdaeb",
          "showTitle": false,
          "title": ""
        },
        "id": "DPobBwg-PrLc"
      },
      "source": [
        "**Question: Are there any null values in the data?**\n",
        "\n",
        "YOUR ANSWER:"
      ]
    },
    {
      "cell_type": "code",
      "execution_count": null,
      "metadata": {
        "application/vnd.databricks.v1+cell": {
          "cellMetadata": {},
          "inputWidgets": {},
          "nuid": "b2ecf8eb-17a8-47c9-8572-5d86f3640fdf",
          "showTitle": false,
          "title": ""
        },
        "id": "3Y9BUppLPrLc"
      },
      "outputs": [],
      "source": [
        "# YOUR CODE HERE\n"
      ]
    },
    {
      "cell_type": "markdown",
      "metadata": {
        "application/vnd.databricks.v1+cell": {
          "cellMetadata": {},
          "inputWidgets": {},
          "nuid": "a5a384c0-9464-43c1-8c2b-304884c84cb8",
          "showTitle": false,
          "title": ""
        },
        "id": "moedkCu_PrLd"
      },
      "source": [
        "Run [DataFrame.describe](https://pandas.pydata.org/docs/reference/api/pandas.DataFrame.describe.html).\n",
        "\n",
        "**Question: What is the max value of pedal width? What is the min value of sepal length?**\n",
        "\n",
        "YOUR ANSWER:"
      ]
    },
    {
      "cell_type": "code",
      "execution_count": null,
      "metadata": {
        "application/vnd.databricks.v1+cell": {
          "cellMetadata": {},
          "inputWidgets": {},
          "nuid": "dc16f2f8-208d-4080-a4df-7f646bd95c61",
          "showTitle": false,
          "title": ""
        },
        "id": "55XRLoyTPrLd"
      },
      "outputs": [],
      "source": [
        "df.describe()"
      ]
    },
    {
      "cell_type": "markdown",
      "source": [
        "Filtering and Sorting Data:\n",
        "\n",
        "Filter the DataFrame to show only rows where the species is versicolor.\n",
        "\n",
        "Sort the DataFrame by the column \"SepalWidthCm\" in ascending order."
      ],
      "metadata": {
        "id": "phw_vSHmRB_b"
      }
    },
    {
      "cell_type": "code",
      "source": [
        "# YOUR CODE HERE\n"
      ],
      "metadata": {
        "id": "1Q3JUMwYRAMd"
      },
      "execution_count": null,
      "outputs": []
    },
    {
      "cell_type": "markdown",
      "metadata": {
        "application/vnd.databricks.v1+cell": {
          "cellMetadata": {},
          "inputWidgets": {},
          "nuid": "6fabb908-8e25-4791-a32c-234ed93d52d3",
          "showTitle": false,
          "title": ""
        },
        "id": "tEdq_zaPPrLd"
      },
      "source": [
        "Plotting a dataset is a great way to explore its distribution. Plotting the iris dataset can be done using matplotlib, a Python library for 2D plotting."
      ]
    },
    {
      "cell_type": "code",
      "execution_count": null,
      "metadata": {
        "application/vnd.databricks.v1+cell": {
          "cellMetadata": {},
          "inputWidgets": {},
          "nuid": "2a928e97-eb51-4ff9-875f-f059b2f43262",
          "showTitle": false,
          "title": ""
        },
        "id": "UPoJF57OPrLd"
      },
      "outputs": [],
      "source": [
        "# YOUR CODE HERE\n"
      ]
    },
    {
      "cell_type": "markdown",
      "metadata": {
        "application/vnd.databricks.v1+cell": {
          "cellMetadata": {},
          "inputWidgets": {},
          "nuid": "5c51ce69-5f74-4d4d-9c66-24bff0797005",
          "showTitle": false,
          "title": ""
        },
        "id": "_9-jAlWnPrLd"
      },
      "source": [
        "**Question: What are your thoughts on how we might measure success on this problem (i.e. a model that predicts the target labels)?**\n",
        "\n",
        "YOUR ANSWER:"
      ]
    },
    {
      "cell_type": "markdown",
      "metadata": {
        "application/vnd.databricks.v1+cell": {
          "cellMetadata": {},
          "inputWidgets": {},
          "nuid": "54f6f099-a032-4bc5-9172-c8997cb6b0d4",
          "showTitle": false,
          "title": ""
        },
        "id": "xbCRG2-uUKCT"
      },
      "source": [
        "---\n",
        "## Part 3: Supervised Learning\n",
        "Supervised learning is all about learning to make predictions: given an input $x$ (e.g. home square footage), can we produce an output $\\hat{y}$ (e.g. estimated value) as close to the actual observed output $y$ (e.g. sale price) as possible. Note that the \"hat\" above $y$ is used to denote an estimated or predicted value.\n",
        "\n",
        "Let's start by generating some artificial data. We'll create a vector of inputs, $X$, and a corresponding vector of target outputs $Y$. In general, we'll refer to invidual examples with a lowercase ($x$), and a vector or matrix containing multiple examples with a capital ($X$)."
      ]
    },
    {
      "cell_type": "code",
      "execution_count": null,
      "metadata": {
        "application/vnd.databricks.v1+cell": {
          "cellMetadata": {},
          "inputWidgets": {},
          "nuid": "9b1562c7-2ccb-46b4-8b25-83d70fa1f99e",
          "showTitle": false,
          "title": ""
        },
        "id": "kfAJ0UMGPrLd"
      },
      "outputs": [],
      "source": [
        "import numpy as np\n",
        "import matplotlib.pyplot as plt"
      ]
    },
    {
      "cell_type": "markdown",
      "metadata": {
        "application/vnd.databricks.v1+cell": {
          "cellMetadata": {},
          "inputWidgets": {},
          "nuid": "126337ce-24bd-44e5-bec8-f7a593a0f967",
          "showTitle": false,
          "title": ""
        },
        "id": "-UrBnanaPrLe"
      },
      "source": [
        "### Generating a Known Function (15 points)\n",
        "\n",
        "Implement variable Y as:\n",
        "\n",
        "$Y = m*X + b + variance$"
      ]
    },
    {
      "cell_type": "code",
      "execution_count": null,
      "metadata": {
        "application/vnd.databricks.v1+cell": {
          "cellMetadata": {
            "byteLimit": 2048000,
            "rowLimit": 10000
          },
          "inputWidgets": {},
          "nuid": "de520632-34cc-4376-b327-da5017a792de",
          "showTitle": false,
          "title": ""
        },
        "id": "Ulmn_bFdU87t"
      },
      "outputs": [],
      "source": [
        "def create_1d_data(num_examples=10, m=2, b=1, random_scale=1):\n",
        "    \"\"\"Create X, Y data with a linear relationship with added noise.\n",
        "\n",
        "    Args:\n",
        "    num_examples: number of examples to generate\n",
        "    w: desired slope\n",
        "    b: desired intercept\n",
        "    random_scale: add uniform noise between -random_scale and +random_scale\n",
        "\n",
        "    Returns:\n",
        "    X and Y with shape (num_examples)\n",
        "    \"\"\"\n",
        "    X = np.arange(num_examples)\n",
        "    np.random.seed(4)  # consistent random number generation\n",
        "    random_variance = np.random.uniform(low=-random_scale, high=random_scale, size=X.shape)\n",
        "    # TODO: build Y = mx + b + random_variance\n",
        "\n",
        "    return X, Y"
      ]
    },
    {
      "cell_type": "code",
      "execution_count": null,
      "metadata": {
        "application/vnd.databricks.v1+cell": {
          "cellMetadata": {
            "byteLimit": 2048000,
            "rowLimit": 10000
          },
          "inputWidgets": {},
          "nuid": "c84b7c2d-4336-485d-90cc-478b40458e55",
          "showTitle": false,
          "title": ""
        },
        "id": "6qJg0IiYVJ8U",
        "outputId": "028c33df-c06b-48f7-dd79-5fd9d58b5543"
      },
      "outputs": [
        {
          "output_type": "display_data",
          "data": {
            "text/plain": [
              "\u001b[0;31m---------------------------------------------------------------------------\u001b[0m\n",
              "\u001b[0;31mNameError\u001b[0m                                 Traceback (most recent call last)\n",
              "File \u001b[0;32m<command-1643314399798493>, line 2\u001b[0m\n",
              "\u001b[1;32m      1\u001b[0m \u001b[38;5;66;03m# Create some artificial data using create_1d_data.\u001b[39;00m\n",
              "\u001b[0;32m----> 2\u001b[0m X, Y \u001b[38;5;241m=\u001b[39m create_1d_data()\n",
              "\u001b[1;32m      3\u001b[0m plt\u001b[38;5;241m.\u001b[39mscatter(X, Y)\n",
              "\u001b[1;32m      4\u001b[0m plt\u001b[38;5;241m.\u001b[39mshow()\n",
              "\n",
              "File \u001b[0;32m<command-1643314399798492>, line 13\u001b[0m, in \u001b[0;36mcreate_1d_data\u001b[0;34m(num_examples, m, b, random_scale)\u001b[0m\n",
              "\u001b[1;32m      1\u001b[0m \u001b[38;5;28;01mdef\u001b[39;00m \u001b[38;5;21mcreate_1d_data\u001b[39m(num_examples\u001b[38;5;241m=\u001b[39m\u001b[38;5;241m10\u001b[39m, m\u001b[38;5;241m=\u001b[39m\u001b[38;5;241m2\u001b[39m, b\u001b[38;5;241m=\u001b[39m\u001b[38;5;241m1\u001b[39m, random_scale\u001b[38;5;241m=\u001b[39m\u001b[38;5;241m1\u001b[39m):\n",
              "\u001b[1;32m      2\u001b[0m     \u001b[38;5;124;03m\"\"\"Create X, Y data with a linear relationship with added noise.\u001b[39;00m\n",
              "\u001b[1;32m      3\u001b[0m \n",
              "\u001b[1;32m      4\u001b[0m \u001b[38;5;124;03m    Args:\u001b[39;00m\n",
              "\u001b[0;32m   (...)\u001b[0m\n",
              "\u001b[1;32m     11\u001b[0m \u001b[38;5;124;03m    X and Y with shape (num_examples)\u001b[39;00m\n",
              "\u001b[1;32m     12\u001b[0m \u001b[38;5;124;03m    \"\"\"\u001b[39;00m\n",
              "\u001b[0;32m---> 13\u001b[0m     X \u001b[38;5;241m=\u001b[39m \u001b[43mnp\u001b[49m\u001b[38;5;241m.\u001b[39marange(num_examples)\n",
              "\u001b[1;32m     14\u001b[0m     np\u001b[38;5;241m.\u001b[39mrandom\u001b[38;5;241m.\u001b[39mseed(\u001b[38;5;241m4\u001b[39m)  \u001b[38;5;66;03m# consistent random number generation\u001b[39;00m\n",
              "\u001b[1;32m     15\u001b[0m     random_variance \u001b[38;5;241m=\u001b[39m np\u001b[38;5;241m.\u001b[39mrandom\u001b[38;5;241m.\u001b[39muniform(low\u001b[38;5;241m=\u001b[39m\u001b[38;5;241m-\u001b[39mrandom_scale, high\u001b[38;5;241m=\u001b[39mrandom_scale, size\u001b[38;5;241m=\u001b[39mX\u001b[38;5;241m.\u001b[39mshape)\n",
              "\n",
              "\u001b[0;31mNameError\u001b[0m: name 'np' is not defined"
            ]
          },
          "metadata": {
            "application/vnd.databricks.v1+output": {
              "addedWidgets": {},
              "arguments": {},
              "datasetInfos": [],
              "jupyterProps": {
                "ename": "NameError",
                "evalue": "name 'np' is not defined"
              },
              "metadata": {
                "errorSummary": "<span class='ansi-red-fg'>NameError</span>: name 'np' is not defined"
              },
              "removedWidgets": [],
              "sqlProps": null,
              "stackFrames": [
                "\u001b[0;31m---------------------------------------------------------------------------\u001b[0m",
                "\u001b[0;31mNameError\u001b[0m                                 Traceback (most recent call last)",
                "File \u001b[0;32m<command-1643314399798493>, line 2\u001b[0m\n\u001b[1;32m      1\u001b[0m \u001b[38;5;66;03m# Create some artificial data using create_1d_data.\u001b[39;00m\n\u001b[0;32m----> 2\u001b[0m X, Y \u001b[38;5;241m=\u001b[39m create_1d_data()\n\u001b[1;32m      3\u001b[0m plt\u001b[38;5;241m.\u001b[39mscatter(X, Y)\n\u001b[1;32m      4\u001b[0m plt\u001b[38;5;241m.\u001b[39mshow()\n",
                "File \u001b[0;32m<command-1643314399798492>, line 13\u001b[0m, in \u001b[0;36mcreate_1d_data\u001b[0;34m(num_examples, m, b, random_scale)\u001b[0m\n\u001b[1;32m      1\u001b[0m \u001b[38;5;28;01mdef\u001b[39;00m \u001b[38;5;21mcreate_1d_data\u001b[39m(num_examples\u001b[38;5;241m=\u001b[39m\u001b[38;5;241m10\u001b[39m, m\u001b[38;5;241m=\u001b[39m\u001b[38;5;241m2\u001b[39m, b\u001b[38;5;241m=\u001b[39m\u001b[38;5;241m1\u001b[39m, random_scale\u001b[38;5;241m=\u001b[39m\u001b[38;5;241m1\u001b[39m):\n\u001b[1;32m      2\u001b[0m     \u001b[38;5;124;03m\"\"\"Create X, Y data with a linear relationship with added noise.\u001b[39;00m\n\u001b[1;32m      3\u001b[0m \n\u001b[1;32m      4\u001b[0m \u001b[38;5;124;03m    Args:\u001b[39;00m\n\u001b[0;32m   (...)\u001b[0m\n\u001b[1;32m     11\u001b[0m \u001b[38;5;124;03m    X and Y with shape (num_examples)\u001b[39;00m\n\u001b[1;32m     12\u001b[0m \u001b[38;5;124;03m    \"\"\"\u001b[39;00m\n\u001b[0;32m---> 13\u001b[0m     X \u001b[38;5;241m=\u001b[39m \u001b[43mnp\u001b[49m\u001b[38;5;241m.\u001b[39marange(num_examples)\n\u001b[1;32m     14\u001b[0m     np\u001b[38;5;241m.\u001b[39mrandom\u001b[38;5;241m.\u001b[39mseed(\u001b[38;5;241m4\u001b[39m)  \u001b[38;5;66;03m# consistent random number generation\u001b[39;00m\n\u001b[1;32m     15\u001b[0m     random_variance \u001b[38;5;241m=\u001b[39m np\u001b[38;5;241m.\u001b[39mrandom\u001b[38;5;241m.\u001b[39muniform(low\u001b[38;5;241m=\u001b[39m\u001b[38;5;241m-\u001b[39mrandom_scale, high\u001b[38;5;241m=\u001b[39mrandom_scale, size\u001b[38;5;241m=\u001b[39mX\u001b[38;5;241m.\u001b[39mshape)\n",
                "\u001b[0;31mNameError\u001b[0m: name 'np' is not defined"
              ],
              "type": "baseError"
            }
          }
        }
      ],
      "source": [
        "# Create some artificial data using create_1d_data.\n",
        "X, Y = create_1d_data()\n",
        "plt.scatter(X, Y)\n",
        "plt.show()"
      ]
    },
    {
      "cell_type": "markdown",
      "metadata": {
        "application/vnd.databricks.v1+cell": {
          "cellMetadata": {},
          "inputWidgets": {},
          "nuid": "e514c4ba-d7a3-44a0-b27e-ec0fa1a1f956",
          "showTitle": false,
          "title": ""
        },
        "id": "h0Zpx79_aQEC"
      },
      "source": [
        "**Question: Explain why the graph does not exactly represent 2X+1**\n",
        "\n",
        "YOUR ANSWER:\n"
      ]
    },
    {
      "cell_type": "markdown",
      "metadata": {
        "application/vnd.databricks.v1+cell": {
          "cellMetadata": {},
          "inputWidgets": {},
          "nuid": "fbcfdb93-b0a6-4c93-a0dc-70a1bafe2159",
          "showTitle": false,
          "title": ""
        },
        "id": "W6coKbXSpXOz"
      },
      "source": [
        "## Models for Data (15 points)"
      ]
    },
    {
      "cell_type": "markdown",
      "metadata": {
        "application/vnd.databricks.v1+cell": {
          "cellMetadata": {},
          "inputWidgets": {},
          "nuid": "d3fbc498-94f5-4e30-9985-99b618a0cb9d",
          "showTitle": false,
          "title": ""
        },
        "id": "S8xIBATfPrLf"
      },
      "source": [
        "A model is a function that takes an input $x$ and produces a prediction $\\hat{y}$.\n",
        "\n",
        "Let's consider two possible models for this data:\n",
        "1. $M_1(x) = x+5$\n",
        "2. $M_2(x) = 2x+1$\n",
        "\n",
        "Compute the predictions of models $M_1$ and $M_2$ for the values in $X$. These predictions should be vectors of the same shape as $Y$. Then plot the prediction lines of these two models overlayed on the \"observed\" data $(X, Y)$. Use [plt.plot()](https://matplotlib.org/api/_as_gen/matplotlib.pyplot.plot.html) to draw the lines. Note: you will generate only one plot. Make sure to include axes, titles and legend."
      ]
    },
    {
      "cell_type": "code",
      "execution_count": null,
      "metadata": {
        "application/vnd.databricks.v1+cell": {
          "cellMetadata": {
            "byteLimit": 2048000,
            "rowLimit": 10000
          },
          "inputWidgets": {},
          "nuid": "32dc7684-447d-4e1a-ba4f-be5628be6b82",
          "showTitle": false,
          "title": ""
        },
        "id": "AHIY5kNXUIAP"
      },
      "outputs": [],
      "source": [
        "# YOUR CODE HERE\n",
        "\n"
      ]
    },
    {
      "cell_type": "code",
      "execution_count": null,
      "metadata": {
        "application/vnd.databricks.v1+cell": {
          "cellMetadata": {
            "byteLimit": 2048000,
            "rowLimit": 10000
          },
          "inputWidgets": {},
          "nuid": "75cc5ee4-4ac3-42d9-a935-8871c69e4d60",
          "showTitle": false,
          "title": ""
        },
        "id": "9CCJHNVBPrLf",
        "outputId": "9f18f273-0407-401a-b1bc-182c3e6f097e"
      },
      "outputs": [
        {
          "output_type": "display_data",
          "data": {
            "text/plain": [
              "\u001b[0;31m---------------------------------------------------------------------------\u001b[0m\n",
              "\u001b[0;31mNameError\u001b[0m                                 Traceback (most recent call last)\n",
              "File \u001b[0;32m<command-1643314399798499>, line 1\u001b[0m\n",
              "\u001b[0;32m----> 1\u001b[0m plt\u001b[38;5;241m.\u001b[39mscatter(X, Y)\n",
              "\u001b[1;32m      3\u001b[0m plt\u001b[38;5;241m.\u001b[39mplot(M1, color \u001b[38;5;241m=\u001b[39m \u001b[38;5;124m'\u001b[39m\u001b[38;5;124mr\u001b[39m\u001b[38;5;124m'\u001b[39m)\n",
              "\u001b[1;32m      4\u001b[0m plt\u001b[38;5;241m.\u001b[39mplot(M2, color \u001b[38;5;241m=\u001b[39m \u001b[38;5;124m'\u001b[39m\u001b[38;5;124mg\u001b[39m\u001b[38;5;124m'\u001b[39m)\n",
              "\n",
              "\u001b[0;31mNameError\u001b[0m: name 'plt' is not defined"
            ]
          },
          "metadata": {
            "application/vnd.databricks.v1+output": {
              "addedWidgets": {},
              "arguments": {},
              "datasetInfos": [],
              "jupyterProps": {
                "ename": "NameError",
                "evalue": "name 'plt' is not defined"
              },
              "metadata": {
                "errorSummary": "<span class='ansi-red-fg'>NameError</span>: name 'plt' is not defined"
              },
              "removedWidgets": [],
              "sqlProps": null,
              "stackFrames": [
                "\u001b[0;31m---------------------------------------------------------------------------\u001b[0m",
                "\u001b[0;31mNameError\u001b[0m                                 Traceback (most recent call last)",
                "File \u001b[0;32m<command-1643314399798499>, line 1\u001b[0m\n\u001b[0;32m----> 1\u001b[0m plt\u001b[38;5;241m.\u001b[39mscatter(X, Y)\n\u001b[1;32m      3\u001b[0m plt\u001b[38;5;241m.\u001b[39mplot(M1, color \u001b[38;5;241m=\u001b[39m \u001b[38;5;124m'\u001b[39m\u001b[38;5;124mr\u001b[39m\u001b[38;5;124m'\u001b[39m)\n\u001b[1;32m      4\u001b[0m plt\u001b[38;5;241m.\u001b[39mplot(M2, color \u001b[38;5;241m=\u001b[39m \u001b[38;5;124m'\u001b[39m\u001b[38;5;124mg\u001b[39m\u001b[38;5;124m'\u001b[39m)\n",
                "\u001b[0;31mNameError\u001b[0m: name 'plt' is not defined"
              ],
              "type": "baseError"
            }
          }
        }
      ],
      "source": [
        "plt.scatter(X, Y)\n",
        "\n",
        "plt.plot(M1, color = 'r')\n",
        "plt.plot(M2, color = 'g')\n",
        "\n",
        "plt.legend([\"X Observed Data\", \"M1 Model Preds\", \"M2 Model Preds\"], loc=\"lower right\")\n",
        "\n",
        "font1 = {'family':'serif','color':'blue','size':20}\n",
        "font2 = {'family':'serif','color':'darkred','size':15}\n",
        "\n",
        "plt.title(\"Comparison of M1 and M2 Models\", fontdict = font1)\n",
        "plt.xlabel(\"X Input Values\", fontdict = font2)\n",
        "plt.ylabel(\"Y Output Values\", fontdict = font2)\n",
        "\n",
        "plt.show()"
      ]
    },
    {
      "cell_type": "markdown",
      "metadata": {
        "application/vnd.databricks.v1+cell": {
          "cellMetadata": {},
          "inputWidgets": {},
          "nuid": "3d7fdf70-c179-4104-899e-1b5f78005117",
          "showTitle": false,
          "title": ""
        },
        "id": "1tueOGADPrLf"
      },
      "source": [
        "**Question: Explain which model looks to be performing better. How do you know?**\n",
        "\n",
        "YOUR ANSWER:"
      ]
    },
    {
      "cell_type": "markdown",
      "metadata": {
        "application/vnd.databricks.v1+cell": {
          "cellMetadata": {},
          "inputWidgets": {},
          "nuid": "9ec21b35-ff37-4467-92a4-e85e04ec29f2",
          "showTitle": false,
          "title": ""
        },
        "id": "dlhfJuR4PrLg"
      },
      "source": [
        "---"
      ]
    },
    {
      "cell_type": "markdown",
      "metadata": {
        "application/vnd.databricks.v1+cell": {
          "cellMetadata": {},
          "inputWidgets": {},
          "nuid": "324e3a3d-4353-4eca-af90-5650abd09b35",
          "showTitle": false,
          "title": ""
        },
        "id": "bCaI97NoPrLg"
      },
      "source": [
        "## Review\n",
        "\n",
        "* In **Supervised Machine Learning**, we must start with data in the form $(X,Y)$ where $X$ are the inputs and $Y$ are the output labels.\n",
        "* A **model** is a function that maps an input $x$ to an output $y$. The model's output is referred to as a **prediction**, denoted by $\\hat{y}$."
      ]
    },
    {
      "cell_type": "code",
      "execution_count": null,
      "metadata": {
        "application/vnd.databricks.v1+cell": {
          "cellMetadata": {},
          "inputWidgets": {},
          "nuid": "632350e3-12dc-41a5-a3d0-9b7929965985",
          "showTitle": false,
          "title": ""
        },
        "id": "I_L6t-1pPrLg"
      },
      "outputs": [],
      "source": []
    }
  ],
  "metadata": {
    "application/vnd.databricks.v1+notebook": {
      "dashboards": [],
      "environmentMetadata": {
        "base_environment": "",
        "client": "1"
      },
      "language": "python",
      "notebookMetadata": {
        "pythonIndentUnit": 4
      },
      "notebookName": "Assignment 1 - Intro to Python & Pandas",
      "widgets": {}
    },
    "kernelspec": {
      "display_name": "Python 3",
      "language": "python",
      "name": "python3"
    },
    "language_info": {
      "codemirror_mode": {
        "name": "ipython",
        "version": 3
      },
      "file_extension": ".py",
      "mimetype": "text/x-python",
      "name": "python",
      "nbconvert_exporter": "python",
      "pygments_lexer": "ipython3",
      "version": "3.8.8"
    },
    "colab": {
      "provenance": []
    }
  },
  "nbformat": 4,
  "nbformat_minor": 0
}